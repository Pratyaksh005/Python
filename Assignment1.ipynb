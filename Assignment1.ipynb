#get the python version
import sys
python_version = sys.version

#command to print the name,batch,and sapid
print("Name: Pratyaksh Bhandari\nBatch: B3\nSAPID: 590018654")

#command to print version of python
print(f"I'm using python version {python_version}")
