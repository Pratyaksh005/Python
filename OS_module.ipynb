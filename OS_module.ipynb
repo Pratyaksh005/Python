{
 "cells": [
  {
   "cell_type": "code",
   "execution_count": 7,
   "id": "f963056e-89fb-41c2-8099-153dbb7eb76f",
   "metadata": {},
   "outputs": [
    {
     "name": "stdin",
     "output_type": "stream",
     "text": [
      "Enter location /Users/Pratyaksh/UPES/Python\n"
     ]
    }
   ],
   "source": [
    "import os\n",
    "\n",
    "# help(os)\n",
    "\n",
    "address = input(\"Enter location\")\n",
    "# address = \"C:\\GITHUB\\PythonProgrammingUPES\\B3B4\"  ## for windows users\n",
    "# address = \"/mnt/c/GITHUB/PythonProgrammingUPES/B3B4\"  ## for linux and wsl users"
   ]
  },
  {
   "cell_type": "code",
   "execution_count": 8,
   "id": "0b48a1a6-2977-49c3-b9d3-502d2a4c1145",
   "metadata": {},
   "outputs": [
    {
     "data": {
      "text/plain": [
       "['hello.py',\n",
       " 'Unit1_loop.ipynb',\n",
       " '.DS_Store',\n",
       " 'Unit2 Part2.ipynb',\n",
       " 'UnitIPartII.ipynb',\n",
       " 'Filedownloader',\n",
       " 'OS module.ipynb',\n",
       " 'DataTypes.py',\n",
       " '.gitignore',\n",
       " 'Output.png',\n",
       " 'GenerateEmails.ipynb',\n",
       " '.ipynb_checkpoints',\n",
       " 'Second.ipynb',\n",
       " '022 UNIT II List_copy Part1.1.ipynb',\n",
       " '.git',\n",
       " 'Assignment1.ipynb']"
      ]
     },
     "execution_count": 8,
     "metadata": {},
     "output_type": "execute_result"
    }
   ],
   "source": [
    "os.chdir(address) # change working dir\n",
    "\n",
    "list_of_files = os.listdir() # list files in dir\n",
    "list_of_files"
   ]
  },
  {
   "cell_type": "code",
   "execution_count": 9,
   "id": "21aa5379-f7b0-4416-8a7b-39ee87e33e1e",
   "metadata": {},
   "outputs": [
    {
     "name": "stdout",
     "output_type": "stream",
     "text": [
      "hello.py\n",
      "Unit1_loop.ipynb\n",
      ".DS_Store\n",
      "Unit2 Part2.ipynb\n",
      "UnitIPartII.ipynb\n",
      "Filedownloader\n",
      "OS module.ipynb\n",
      "DataTypes.py\n",
      ".gitignore\n",
      "Output.png\n",
      "GenerateEmails.ipynb\n",
      ".ipynb_checkpoints\n",
      "Second.ipynb\n",
      "022 UNIT II List_copy Part1.1.ipynb\n",
      ".git\n",
      "Assignment1.ipynb\n"
     ]
    }
   ],
   "source": [
    "for f in list_of_files:\n",
    "    print(f)"
   ]
  }
 ],
 "metadata": {
  "kernelspec": {
   "display_name": "Python 3 (ipykernel)",
   "language": "python",
   "name": "python3"
  },
  "language_info": {
   "codemirror_mode": {
    "name": "ipython",
    "version": 3
   },
   "file_extension": ".py",
   "mimetype": "text/x-python",
   "name": "python",
   "nbconvert_exporter": "python",
   "pygments_lexer": "ipython3",
   "version": "3.12.6"
  }
 },
 "nbformat": 4,
 "nbformat_minor": 5
}
