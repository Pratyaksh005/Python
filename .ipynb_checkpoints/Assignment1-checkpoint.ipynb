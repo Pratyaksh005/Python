{
 "cells": [
  {
   "cell_type": "code",
   "execution_count": 1,
   "id": "fc814254-8270-4e06-b244-7fe467f283b1",
   "metadata": {},
   "outputs": [
    {
     "name": "stdout",
     "output_type": "stream",
     "text": [
      "Name: Pratyaksh Bhandari\n",
      "Batch: B3\n",
      "SAPID: 590018654\n",
      "I'm using python version 3.12.5 (main, Aug  6 2024, 19:08:49) [Clang 15.0.0 (clang-1500.3.9.4)]\n"
     ]
    }
   ],
   "source": [
    "#get the python version\n",
    "import sys\n",
    "python_version = sys.version\n",
    "\n",
    "#command to print the name,batch,and sapid\n",
    "print(\"Name: Pratyaksh Bhandari\\nBatch: B3\\nSAPID: 590018654\")\n",
    "\n",
    "#command to print version of python\n",
    "print(f\"I'm using python version {python_version}\")\n"
   ]
  }
 ],
 "metadata": {
  "kernelspec": {
   "display_name": "Python 3 (ipykernel)",
   "language": "python",
   "name": "python3"
  },
  "language_info": {
   "codemirror_mode": {
    "name": "ipython",
    "version": 3
   },
   "file_extension": ".py",
   "mimetype": "text/x-python",
   "name": "python",
   "nbconvert_exporter": "python",
   "pygments_lexer": "ipython3",
   "version": "3.12.5"
  }
 },
 "nbformat": 4,
 "nbformat_minor": 5
}
