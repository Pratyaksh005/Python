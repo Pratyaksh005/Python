{
 "cells": [
  {
   "cell_type": "code",
   "execution_count": 4,
   "id": "737fee2d-675a-4df8-a2a5-2248caef28ef",
   "metadata": {},
   "outputs": [
    {
     "data": {
      "text/plain": [
       "[1, 2, 3, '4', 8.0, [1, 2]]"
      ]
     },
     "execution_count": 4,
     "metadata": {},
     "output_type": "execute_result"
    }
   ],
   "source": [
    "a = [1, 2, 3, \"4\" , 8.0 , [ 1,2]]\n",
    "a"
   ]
  },
  {
   "cell_type": "code",
   "execution_count": 5,
   "id": "9b407384-e9bb-4f71-a031-9a9476babe63",
   "metadata": {},
   "outputs": [
    {
     "data": {
      "text/plain": [
       "1"
      ]
     },
     "execution_count": 5,
     "metadata": {},
     "output_type": "execute_result"
    }
   ],
   "source": [
    "a[0]"
   ]
  },
  {
   "cell_type": "code",
   "execution_count": 6,
   "id": "82776279-a491-4559-bd7c-8efdfa687148",
   "metadata": {},
   "outputs": [
    {
     "data": {
      "text/plain": [
       "6"
      ]
     },
     "execution_count": 6,
     "metadata": {},
     "output_type": "execute_result"
    }
   ],
   "source": [
    "len(a)"
   ]
  },
  {
   "cell_type": "code",
   "execution_count": 7,
   "id": "785aa3ab-a3da-47ee-b101-44d5f550d3f0",
   "metadata": {},
   "outputs": [
    {
     "data": {
      "text/plain": [
       "[1, 2]"
      ]
     },
     "execution_count": 7,
     "metadata": {},
     "output_type": "execute_result"
    }
   ],
   "source": [
    "a[-1]"
   ]
  },
  {
   "cell_type": "code",
   "execution_count": 8,
   "id": "f20ddcc1-47ef-4073-9cd8-3577935342ce",
   "metadata": {},
   "outputs": [],
   "source": [
    "a.append(\"new val\")"
   ]
  },
  {
   "cell_type": "code",
   "execution_count": 9,
   "id": "d947f7c6-90b1-43f6-a82b-f887d62903f8",
   "metadata": {},
   "outputs": [
    {
     "data": {
      "text/plain": [
       "[1, 2, 3, '4', 8.0, [1, 2], 'new val']"
      ]
     },
     "execution_count": 9,
     "metadata": {},
     "output_type": "execute_result"
    }
   ],
   "source": [
    "a"
   ]
  },
  {
   "cell_type": "code",
   "execution_count": 10,
   "id": "e51506cd-3543-4e45-a146-5d5bd66ce867",
   "metadata": {},
   "outputs": [],
   "source": [
    "a.remove(\"4\")"
   ]
  },
  {
   "cell_type": "code",
   "execution_count": 11,
   "id": "a6cba25d-b7fa-41e9-854b-ab272a2aa9c6",
   "metadata": {},
   "outputs": [
    {
     "data": {
      "text/plain": [
       "[1, 2, 3, 8.0, [1, 2], 'new val']"
      ]
     },
     "execution_count": 11,
     "metadata": {},
     "output_type": "execute_result"
    }
   ],
   "source": [
    "a"
   ]
  },
  {
   "cell_type": "code",
   "execution_count": 12,
   "id": "074e6202-c305-4e00-bd16-2cc634666693",
   "metadata": {},
   "outputs": [
    {
     "name": "stdout",
     "output_type": "stream",
     "text": [
      "Help on class list in module builtins:\n",
      "\n",
      "class list(object)\n",
      " |  list(iterable=(), /)\n",
      " |  \n",
      " |  Built-in mutable sequence.\n",
      " |  \n",
      " |  If no argument is given, the constructor creates a new empty list.\n",
      " |  The argument must be an iterable if specified.\n",
      " |  \n",
      " |  Methods defined here:\n",
      " |  \n",
      " |  __add__(self, value, /)\n",
      " |      Return self+value.\n",
      " |  \n",
      " |  __contains__(self, key, /)\n",
      " |      Return key in self.\n",
      " |  \n",
      " |  __delitem__(self, key, /)\n",
      " |      Delete self[key].\n",
      " |  \n",
      " |  __eq__(self, value, /)\n",
      " |      Return self==value.\n",
      " |  \n",
      " |  __ge__(self, value, /)\n",
      " |      Return self>=value.\n",
      " |  \n",
      " |  __getattribute__(self, name, /)\n",
      " |      Return getattr(self, name).\n",
      " |  \n",
      " |  __getitem__(...)\n",
      " |      x.__getitem__(y) <==> x[y]\n",
      " |  \n",
      " |  __gt__(self, value, /)\n",
      " |      Return self>value.\n",
      " |  \n",
      " |  __iadd__(self, value, /)\n",
      " |      Implement self+=value.\n",
      " |  \n",
      " |  __imul__(self, value, /)\n",
      " |      Implement self*=value.\n",
      " |  \n",
      " |  __init__(self, /, *args, **kwargs)\n",
      " |      Initialize self.  See help(type(self)) for accurate signature.\n",
      " |  \n",
      " |  __iter__(self, /)\n",
      " |      Implement iter(self).\n",
      " |  \n",
      " |  __le__(self, value, /)\n",
      " |      Return self<=value.\n",
      " |  \n",
      " |  __len__(self, /)\n",
      " |      Return len(self).\n",
      " |  \n",
      " |  __lt__(self, value, /)\n",
      " |      Return self<value.\n",
      " |  \n",
      " |  __mul__(self, value, /)\n",
      " |      Return self*value.\n",
      " |  \n",
      " |  __ne__(self, value, /)\n",
      " |      Return self!=value.\n",
      " |  \n",
      " |  __repr__(self, /)\n",
      " |      Return repr(self).\n",
      " |  \n",
      " |  __reversed__(self, /)\n",
      " |      Return a reverse iterator over the list.\n",
      " |  \n",
      " |  __rmul__(self, value, /)\n",
      " |      Return value*self.\n",
      " |  \n",
      " |  __setitem__(self, key, value, /)\n",
      " |      Set self[key] to value.\n",
      " |  \n",
      " |  __sizeof__(self, /)\n",
      " |      Return the size of the list in memory, in bytes.\n",
      " |  \n",
      " |  append(self, object, /)\n",
      " |      Append object to the end of the list.\n",
      " |  \n",
      " |  clear(self, /)\n",
      " |      Remove all items from list.\n",
      " |  \n",
      " |  copy(self, /)\n",
      " |      Return a shallow copy of the list.\n",
      " |  \n",
      " |  count(self, value, /)\n",
      " |      Return number of occurrences of value.\n",
      " |  \n",
      " |  extend(self, iterable, /)\n",
      " |      Extend list by appending elements from the iterable.\n",
      " |  \n",
      " |  index(self, value, start=0, stop=9223372036854775807, /)\n",
      " |      Return first index of value.\n",
      " |      \n",
      " |      Raises ValueError if the value is not present.\n",
      " |  \n",
      " |  insert(self, index, object, /)\n",
      " |      Insert object before index.\n",
      " |  \n",
      " |  pop(self, index=-1, /)\n",
      " |      Remove and return item at index (default last).\n",
      " |      \n",
      " |      Raises IndexError if list is empty or index is out of range.\n",
      " |  \n",
      " |  remove(self, value, /)\n",
      " |      Remove first occurrence of value.\n",
      " |      \n",
      " |      Raises ValueError if the value is not present.\n",
      " |  \n",
      " |  reverse(self, /)\n",
      " |      Reverse *IN PLACE*.\n",
      " |  \n",
      " |  sort(self, /, *, key=None, reverse=False)\n",
      " |      Sort the list in ascending order and return None.\n",
      " |      \n",
      " |      The sort is in-place (i.e. the list itself is modified) and stable (i.e. the\n",
      " |      order of two equal elements is maintained).\n",
      " |      \n",
      " |      If a key function is given, apply it once to each list item and sort them,\n",
      " |      ascending or descending, according to their function values.\n",
      " |      \n",
      " |      The reverse flag can be set to sort in descending order.\n",
      " |  \n",
      " |  ----------------------------------------------------------------------\n",
      " |  Class methods defined here:\n",
      " |  \n",
      " |  __class_getitem__(...) from builtins.type\n",
      " |      See PEP 585\n",
      " |  \n",
      " |  ----------------------------------------------------------------------\n",
      " |  Static methods defined here:\n",
      " |  \n",
      " |  __new__(*args, **kwargs) from builtins.type\n",
      " |      Create and return a new object.  See help(type) for accurate signature.\n",
      " |  \n",
      " |  ----------------------------------------------------------------------\n",
      " |  Data and other attributes defined here:\n",
      " |  \n",
      " |  __hash__ = None\n",
      "\n"
     ]
    }
   ],
   "source": [
    "help(list)"
   ]
  },
  {
   "cell_type": "code",
   "execution_count": 13,
   "id": "b8638b07-2f28-4743-86bb-4bb37a0e5dab",
   "metadata": {},
   "outputs": [],
   "source": [
    "# tuple\n",
    "\n",
    "immutableList = (1,2,3)"
   ]
  },
  {
   "cell_type": "code",
   "execution_count": 14,
   "id": "2cb6004d-3cf0-4967-aba8-7f72b22c4c6e",
   "metadata": {},
   "outputs": [
    {
     "data": {
      "text/plain": [
       "(1, 2, 3)"
      ]
     },
     "execution_count": 14,
     "metadata": {},
     "output_type": "execute_result"
    }
   ],
   "source": [
    "immutableList"
   ]
  },
  {
   "cell_type": "code",
   "execution_count": 15,
   "id": "a13559b9-bf16-491f-8ca7-9ec05c6ac9aa",
   "metadata": {},
   "outputs": [
    {
     "data": {
      "text/plain": [
       "3"
      ]
     },
     "execution_count": 15,
     "metadata": {},
     "output_type": "execute_result"
    }
   ],
   "source": [
    "immutableList[2]"
   ]
  },
  {
   "cell_type": "code",
   "execution_count": 2,
   "id": "6b1cd4e1-4207-4216-9a5d-7bafc9f3bb7c",
   "metadata": {},
   "outputs": [],
   "source": [
    "# help(immutableList)"
   ]
  },
  {
   "cell_type": "code",
   "execution_count": 18,
   "id": "63bb0d19-50f5-46fb-a66a-eaff595d05a6",
   "metadata": {},
   "outputs": [
    {
     "data": {
      "text/plain": [
       "{1, 2, 3, 4}"
      ]
     },
     "execution_count": 18,
     "metadata": {},
     "output_type": "execute_result"
    }
   ],
   "source": [
    "a = { 1, 2, 3, 4, 3 }\n",
    "a"
   ]
  },
  {
   "cell_type": "code",
   "execution_count": 21,
   "id": "0718bc14-899f-4c26-bf34-1f7feca1e1d0",
   "metadata": {},
   "outputs": [],
   "source": [
    "# dictionary key value\n",
    "\n",
    "dictA = { \"key\":\"value\" }\n",
    "\n",
    "dictB = { \n",
    "    \"force\":\"10\",\n",
    "    \"mass\": \"20\"\n",
    "}"
   ]
  },
  {
   "cell_type": "code",
   "execution_count": 20,
   "id": "0b4cedf8-722c-4574-b9e8-21f093cfc648",
   "metadata": {},
   "outputs": [
    {
     "data": {
      "text/plain": [
       "{'key': '10', 'key2': '20'}"
      ]
     },
     "execution_count": 20,
     "metadata": {},
     "output_type": "execute_result"
    }
   ],
   "source": [
    "dictB"
   ]
  },
  {
   "cell_type": "code",
   "execution_count": 24,
   "id": "0ecadf0f-8569-417f-b0e2-7b1837317fea",
   "metadata": {},
   "outputs": [
    {
     "data": {
      "text/plain": [
       "{'force': 300, 'mass': '20'}"
      ]
     },
     "execution_count": 24,
     "metadata": {},
     "output_type": "execute_result"
    }
   ],
   "source": [
    "# dictionary key value\n",
    "\n",
    "dictA = { \"key\":\"value\" }\n",
    "\n",
    "# dictB = { \n",
    "#     \"key\": [1, 2],\n",
    "#     \"key2\": { }\n",
    "# }\n",
    "\n",
    "dictB[\"force\"] =300\n",
    "dictB"
   ]
  },
  {
   "cell_type": "code",
   "execution_count": 25,
   "id": "641c2216-f357-4a89-a117-a07e955f6cc9",
   "metadata": {},
   "outputs": [
    {
     "data": {
      "text/plain": [
       "{'name': 'John', 'age': 30, 'city': 'New York'}"
      ]
     },
     "execution_count": 25,
     "metadata": {},
     "output_type": "execute_result"
    }
   ],
   "source": [
    "person = {\n",
    "    \"name\": \"John\",\n",
    "    \"age\": 30,\n",
    "    \"city\": \"New York\"\n",
    "}\n",
    "person"
   ]
  },
  {
   "cell_type": "code",
   "execution_count": 26,
   "id": "28a71b2c-8f04-433b-9685-f517ed1bdb0f",
   "metadata": {},
   "outputs": [
    {
     "name": "stdout",
     "output_type": "stream",
     "text": [
      " key is name and val is John\n",
      " key is age and val is 30\n",
      " key is city and val is New York\n"
     ]
    }
   ],
   "source": [
    "for key, val in person.items():\n",
    "    print(f\" key is {key} and val is {val}\")"
   ]
  },
  {
   "cell_type": "code",
   "execution_count": 1,
   "id": "dc2fa0cc-5e73-4349-90cb-cf65125eeeb3",
   "metadata": {},
   "outputs": [],
   "source": [
    "# help(dict)"
   ]
  },
  {
   "cell_type": "code",
   "execution_count": 28,
   "id": "44988696-76a4-494b-93b7-182195e75f1a",
   "metadata": {},
   "outputs": [],
   "source": [
    "# main "
   ]
  },
  {
   "cell_type": "code",
   "execution_count": 29,
   "id": "1ae937b4-9934-4ee1-a09b-17d95849263d",
   "metadata": {},
   "outputs": [],
   "source": [
    "import testfile"
   ]
  },
  {
   "cell_type": "code",
   "execution_count": 31,
   "id": "7434ea49-983c-4c74-bf49-a1e7edf6abb0",
   "metadata": {},
   "outputs": [
    {
     "data": {
      "text/plain": [
       "3.14"
      ]
     },
     "execution_count": 31,
     "metadata": {},
     "output_type": "execute_result"
    }
   ],
   "source": [
    "testfile.PI"
   ]
  },
  {
   "cell_type": "code",
   "execution_count": 32,
   "id": "65164a1b-5e38-4eb5-9da2-f7807611bdb8",
   "metadata": {},
   "outputs": [
    {
     "name": "stdout",
     "output_type": "stream",
     "text": [
      "The Value of 1 variable is \t1\t its id is \t 140331081072776\n",
      "\n",
      "\n",
      "\n"
     ]
    }
   ],
   "source": [
    "testfile.showDetails(1)"
   ]
  },
  {
   "cell_type": "code",
   "execution_count": 33,
   "id": "620825df-b7b4-4be6-8f0f-be1332861718",
   "metadata": {},
   "outputs": [
    {
     "data": {
      "text/plain": [
       "3.14"
      ]
     },
     "execution_count": 33,
     "metadata": {},
     "output_type": "execute_result"
    }
   ],
   "source": [
    "import testfile as tf\n",
    "tf.PI"
   ]
  },
  {
   "cell_type": "code",
   "execution_count": 37,
   "id": "50b15ed2-f4a6-4461-9f19-93cb1f1135e9",
   "metadata": {},
   "outputs": [
    {
     "name": "stdout",
     "output_type": "stream",
     "text": [
      "The Value of 1 variable is \t1\t its id is \t 140331081072776\n",
      "\n",
      "\n",
      "\n"
     ]
    }
   ],
   "source": [
    "# from testfile import PI , showDetails\n",
    "from testfile import showDetails as show\n",
    "\n",
    "show(1)"
   ]
  },
  {
   "cell_type": "code",
   "execution_count": 35,
   "id": "27bc15b0-cf89-4a30-80e4-c9753dc38b4b",
   "metadata": {},
   "outputs": [
    {
     "data": {
      "text/plain": [
       "3.14"
      ]
     },
     "execution_count": 35,
     "metadata": {},
     "output_type": "execute_result"
    }
   ],
   "source": [
    "PI"
   ]
  },
  {
   "cell_type": "code",
   "execution_count": 5,
   "id": "a89a95b8-1ccc-452a-83f1-8ff44fcf0ea4",
   "metadata": {},
   "outputs": [],
   "source": [
    "import testfile"
   ]
  },
  {
   "cell_type": "code",
   "execution_count": 6,
   "id": "26f78ee6-aecb-495b-b266-5a6bcedeb747",
   "metadata": {},
   "outputs": [
    {
     "data": {
      "text/plain": [
       "3.14"
      ]
     },
     "execution_count": 6,
     "metadata": {},
     "output_type": "execute_result"
    }
   ],
   "source": [
    "testfile.PI"
   ]
  },
  {
   "cell_type": "code",
   "execution_count": 7,
   "id": "9bca7fa0-a1ed-4e16-bec0-43e61b47066e",
   "metadata": {},
   "outputs": [],
   "source": [
    "import testfile as t"
   ]
  },
  {
   "cell_type": "code",
   "execution_count": 8,
   "id": "0bafe98d-204b-428c-831f-6de699529af1",
   "metadata": {},
   "outputs": [
    {
     "data": {
      "text/plain": [
       "3.14"
      ]
     },
     "execution_count": 8,
     "metadata": {},
     "output_type": "execute_result"
    }
   ],
   "source": [
    "t.PI"
   ]
  },
  {
   "cell_type": "code",
   "execution_count": 20,
   "id": "d8d71857-a198-4e69-a932-209b3a965bfd",
   "metadata": {},
   "outputs": [
    {
     "data": {
      "text/plain": [
       "5"
      ]
     },
     "execution_count": 20,
     "metadata": {},
     "output_type": "execute_result"
    }
   ],
   "source": [
    "# PI = 22/7\n",
    "\n",
    "# from testfile import *\n",
    "# from testfile2 import *\n",
    "# import testfile as tf1\n",
    "\n",
    "import module1 as m1\n",
    "\n",
    "\n",
    "\n",
    "m1.PI#, tf2.PI"
   ]
  },
  {
   "cell_type": "code",
   "execution_count": 30,
   "id": "dafc87cb-d54e-4221-b83c-acb0aceb16e1",
   "metadata": {},
   "outputs": [
    {
     "name": "stdout",
     "output_type": "stream",
     "text": [
      "()\n",
      "result is 3\n",
      "(1, 2)\n",
      "result is 6\n"
     ]
    }
   ],
   "source": [
    "#initilizing\n",
    "var1 = 1\n",
    "var2 =2\n",
    "\n",
    "\n",
    "# defining function\n",
    "# *args\n",
    "# def myadd(a, b, c = 0, d = 0, e = 0):\n",
    "def myadd(a, b, *args):\n",
    "    print(args)\n",
    "    res = a + b \n",
    "    for a in args:\n",
    "        res = res+ a\n",
    "    return res\n",
    "\n",
    "\n",
    "#using function\n",
    "result = myadd(var1, var2)\n",
    "print(f\"result is { result }\")\n",
    "\n",
    "result = myadd(var1, var2, 1, 2)\n",
    "print(f\"result is { result }\")\n",
    "\n",
    "\n"
   ]
  },
  {
   "cell_type": "code",
   "execution_count": 31,
   "id": "ed35c192-522f-4294-95f9-2ed21fbfa556",
   "metadata": {},
   "outputs": [
    {
     "name": "stdout",
     "output_type": "stream",
     "text": [
      "{'name': 'Raj', 'message': 'how are you'}\n"
     ]
    }
   ],
   "source": [
    "# def greet(a, b , *args, **kwargs):\n",
    "def greet(**kwargs):\n",
    "    # print(f\"Hi {name} {message}\")\n",
    "    print(kwargs)\n",
    "\n",
    "# name =\"Raj\"\n",
    "# message =\"how are you\"\n",
    "greet(name = \"Raj\", message = \"how are you\")"
   ]
  },
  {
   "cell_type": "code",
   "execution_count": null,
   "id": "f03cff2a-603b-45ad-9abb-33f343475b1c",
   "metadata": {},
   "outputs": [],
   "source": []
  }
 ],
 "metadata": {
  "kernelspec": {
   "display_name": "Python 3 (ipykernel)",
   "language": "python",
   "name": "python3"
  },
  "language_info": {
   "codemirror_mode": {
    "name": "ipython",
    "version": 3
   },
   "file_extension": ".py",
   "mimetype": "text/x-python",
   "name": "python",
   "nbconvert_exporter": "python",
   "pygments_lexer": "ipython3",
   "version": "3.12.6"
  }
 },
 "nbformat": 4,
 "nbformat_minor": 5
}
