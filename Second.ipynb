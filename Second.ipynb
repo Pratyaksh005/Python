{
 "cells": [
  {
   "cell_type": "code",
   "execution_count": 17,
   "id": "6412d00c-4d5b-410a-8d23-83d543e73974",
   "metadata": {},
   "outputs": [],
   "source": [
    "# id type\n",
    "\n",
    "a = 1\n"
   ]
  },
  {
   "cell_type": "code",
   "execution_count": 18,
   "id": "e0941b66-5f6b-48b7-b1d6-0fd9f4acf326",
   "metadata": {},
   "outputs": [
    {
     "name": "stdout",
     "output_type": "stream",
     "text": [
      "1\n",
      "4373223168\n",
      "<class 'int'>\n"
     ]
    }
   ],
   "source": [
    "print(a)\n",
    "print(id(a))\n",
    "print(type(a))"
   ]
  },
  {
   "cell_type": "code",
   "execution_count": 19,
   "id": "8fc2c3bc-6427-432b-82ec-6e947393bc79",
   "metadata": {},
   "outputs": [],
   "source": [
    "a = \"2.2\""
   ]
  },
  {
   "cell_type": "code",
   "execution_count": 20,
   "id": "3f5e7b93-b309-45fc-99eb-48950d29d395",
   "metadata": {},
   "outputs": [
    {
     "name": "stdout",
     "output_type": "stream",
     "text": [
      "2.2\n",
      "4420636368\n",
      "<class 'str'>\n"
     ]
    }
   ],
   "source": [
    "print(a)\n",
    "print(id(a))\n",
    "print(type(a))"
   ]
  },
  {
   "cell_type": "code",
   "execution_count": 21,
   "id": "b0fe38c7-7e92-4c8a-a373-d6e43c2e2857",
   "metadata": {},
   "outputs": [
    {
     "name": "stdout",
     "output_type": "stream",
     "text": [
      "2.2\n",
      "4420636368\n",
      "<class 'str'>\n"
     ]
    }
   ],
   "source": [
    "print(a)\n",
    "print(id(a))\n",
    "print(type(a))"
   ]
  },
  {
   "cell_type": "code",
   "execution_count": 22,
   "id": "2693b688-4a76-4175-9b29-e12a62b9191f",
   "metadata": {},
   "outputs": [],
   "source": [
    "a=10\n",
    "b=10"
   ]
  },
  {
   "cell_type": "code",
   "execution_count": 23,
   "id": "71a82e27-0525-4737-af96-b908d7f6b808",
   "metadata": {},
   "outputs": [
    {
     "name": "stdout",
     "output_type": "stream",
     "text": [
      "10\n",
      "4373223456\n",
      "<class 'int'>\n"
     ]
    }
   ],
   "source": [
    "print(a)\n",
    "print(id(a))\n",
    "print(type(a))"
   ]
  },
  {
   "cell_type": "code",
   "execution_count": 24,
   "id": "186efcdb-1dce-417e-9244-efb62fc47e29",
   "metadata": {},
   "outputs": [],
   "source": [
    "list1 = [1, 2, 3]"
   ]
  },
  {
   "cell_type": "code",
   "execution_count": 25,
   "id": "567d8e4b-e57f-403d-809c-a08bb0907ee7",
   "metadata": {},
   "outputs": [
    {
     "name": "stdout",
     "output_type": "stream",
     "text": [
      "[1, 2, 3]\n"
     ]
    }
   ],
   "source": [
    "print(list1)"
   ]
  },
  {
   "cell_type": "code",
   "execution_count": 27,
   "id": "736d41aa-29c6-418a-b3c8-de85cd1fc1ec",
   "metadata": {},
   "outputs": [
    {
     "name": "stdout",
     "output_type": "stream",
     "text": [
      "[1, 2, 3, 6, 6]\n",
      "<class 'list'>\n",
      "4420369728\n"
     ]
    }
   ],
   "source": [
    "list1.append(6)\n",
    "print(list1)\n",
    "print(type(list1))\n",
    "print(id(list1))"
   ]
  },
  {
   "cell_type": "code",
   "execution_count": 28,
   "id": "bb00c72d-d547-4550-9399-6c38291b7734",
   "metadata": {},
   "outputs": [
    {
     "name": "stdout",
     "output_type": "stream",
     "text": [
      "a is larger than b\n",
      "2\n",
      "4373223456\n"
     ]
    }
   ],
   "source": [
    "\"\"\" multiline comment \n",
    "second line \n",
    "\n",
    "\n",
    "\"\"\"\n",
    "\n",
    "'''\n",
    "\n",
    "this is also comment\n",
    "'''\n",
    "\n",
    "\n",
    "a=10\n",
    "b=2\n",
    "# print larger number of a and b\n",
    "if a>b:\n",
    "    print(\"a is larger than b\")\n",
    "    # this condition fails\n",
    "    # print(a)\n",
    "    print(b)\n",
    "\n",
    "\n",
    "\n",
    "else:\n",
    "    print(\"a is smaller than b\")\n",
    "\n",
    "print(id(a))\n",
    "    "
   ]
  },
  {
   "cell_type": "code",
   "execution_count": 29,
   "id": "4b67f150-f9aa-473f-8615-9ee62f6d84d5",
   "metadata": {},
   "outputs": [
    {
     "data": {
      "text/plain": [
       "True"
      ]
     },
     "execution_count": 29,
     "metadata": {},
     "output_type": "execute_result"
    }
   ],
   "source": [
    "a>b"
   ]
  },
  {
   "cell_type": "code",
   "execution_count": 30,
   "id": "e17b49f7-7018-40a4-9cd0-09bcd7166502",
   "metadata": {},
   "outputs": [
    {
     "name": "stdout",
     "output_type": "stream",
     "text": [
      "this is \\\"test\\\" string\n"
     ]
    }
   ],
   "source": [
    "# strings\n",
    "\n",
    "str1 = r\"this is \\\"test\\\" string\"\n",
    "str2 = r'This is \\second test string'\n",
    "print(str1)\n"
   ]
  },
  {
   "cell_type": "code",
   "execution_count": 31,
   "id": "623f46c8-fca9-4ad5-800a-0219ff1baf8a",
   "metadata": {},
   "outputs": [
    {
     "name": "stdout",
     "output_type": "stream",
     "text": [
      "THIS IS \\\"TEST\\\" STRING\n"
     ]
    }
   ],
   "source": [
    "str1=str1.upper()\n",
    "# print()\n",
    "print(str1)\n"
   ]
  },
  {
   "cell_type": "code",
   "execution_count": 32,
   "id": "3d19de8a-8a7d-44df-972b-e22148929443",
   "metadata": {},
   "outputs": [
    {
     "ename": "SyntaxError",
     "evalue": "unterminated string literal (detected at line 1) (3397144474.py, line 1)",
     "output_type": "error",
     "traceback": [
      "\u001b[0;36m  Cell \u001b[0;32mIn[32], line 1\u001b[0;36m\u001b[0m\n\u001b[0;31m    str2.replace(\"second,\"2\")\u001b[0m\n\u001b[0m                           ^\u001b[0m\n\u001b[0;31mSyntaxError\u001b[0m\u001b[0;31m:\u001b[0m unterminated string literal (detected at line 1)\n"
     ]
    }
   ],
   "source": [
    "str2.replace(\"second,\"2\")"
   ]
  },
  {
   "cell_type": "code",
   "execution_count": 33,
   "id": "bbd34e34-0615-4d02-aa2b-7c47d4369c86",
   "metadata": {},
   "outputs": [
    {
     "data": {
      "text/plain": [
       "'hello python'"
      ]
     },
     "execution_count": 33,
     "metadata": {},
     "output_type": "execute_result"
    }
   ],
   "source": [
    "str1=\"hello\"\n",
    "str2=\"python\"\n",
    "\n",
    "str1 + \" \" + str2"
   ]
  },
  {
   "cell_type": "code",
   "execution_count": 34,
   "id": "7a94deca-85a9-4af1-8e14-9a70321cf8dc",
   "metadata": {},
   "outputs": [
    {
     "data": {
      "text/plain": [
       "'hellohellohellohello'"
      ]
     },
     "execution_count": 34,
     "metadata": {},
     "output_type": "execute_result"
    }
   ],
   "source": [
    "str1 * 4"
   ]
  },
  {
   "cell_type": "code",
   "execution_count": 35,
   "id": "d05f638e-2f2a-45ba-a90b-083adeed6791",
   "metadata": {},
   "outputs": [
    {
     "name": "stdout",
     "output_type": "stream",
     "text": [
      "False\n"
     ]
    }
   ],
   "source": [
    "print(\"test\" in str1)"
   ]
  },
  {
   "cell_type": "code",
   "execution_count": 36,
   "id": "6ae63fc5-7532-4d9a-bc1c-5740a64ae8b9",
   "metadata": {},
   "outputs": [
    {
     "data": {
      "text/plain": [
       "'hello'"
      ]
     },
     "execution_count": 36,
     "metadata": {},
     "output_type": "execute_result"
    }
   ],
   "source": [
    "str1"
   ]
  },
  {
   "cell_type": "code",
   "execution_count": 37,
   "id": "bb31dd08-cc87-4fac-8b66-f17b4a9a3edd",
   "metadata": {},
   "outputs": [
    {
     "data": {
      "text/plain": [
       "'hello'"
      ]
     },
     "execution_count": 37,
     "metadata": {},
     "output_type": "execute_result"
    }
   ],
   "source": [
    "str1[0:5]"
   ]
  },
  {
   "cell_type": "code",
   "execution_count": 38,
   "id": "36ffc3f3-1eb3-4437-8bd1-d9fe20bae78e",
   "metadata": {},
   "outputs": [],
   "source": [
    "numbersstr = \"0123456789\""
   ]
  },
  {
   "cell_type": "code",
   "execution_count": 39,
   "id": "7eb4286c-77a1-473a-ade6-b2e0aa92f71f",
   "metadata": {},
   "outputs": [
    {
     "data": {
      "text/plain": [
       "'0123456789'"
      ]
     },
     "execution_count": 39,
     "metadata": {},
     "output_type": "execute_result"
    }
   ],
   "source": [
    "numbersstr[0:10]"
   ]
  },
  {
   "cell_type": "code",
   "execution_count": null,
   "id": "0221e419-a32c-4f18-ac3a-9f5acc940da2",
   "metadata": {},
   "outputs": [],
   "source": []
  },
  {
   "cell_type": "code",
   "execution_count": 40,
   "id": "801d922a-b354-41f0-8407-b409e294d00c",
   "metadata": {},
   "outputs": [
    {
     "data": {
      "text/plain": [
       "10"
      ]
     },
     "execution_count": 40,
     "metadata": {},
     "output_type": "execute_result"
    }
   ],
   "source": [
    "len(numbersstr)"
   ]
  },
  {
   "cell_type": "code",
   "execution_count": 41,
   "id": "a5a63fdc-ba33-4da1-bf0c-298f688493ba",
   "metadata": {},
   "outputs": [
    {
     "data": {
      "text/plain": [
       "'8'"
      ]
     },
     "execution_count": 41,
     "metadata": {},
     "output_type": "execute_result"
    }
   ],
   "source": [
    "numbersstr[-2]"
   ]
  },
  {
   "cell_type": "code",
   "execution_count": 42,
   "id": "71b141ed-f885-43ed-9eef-f531f6cbc29b",
   "metadata": {},
   "outputs": [
    {
     "name": "stdout",
     "output_type": "stream",
     "text": [
      "My name is raj and i like python, javascript\n"
     ]
    }
   ],
   "source": [
    "name=\"raj\"\n",
    "fav=\"python, javascript\"\n",
    "\n",
    "# My name is prateek and i like python\n",
    "\n",
    "print(\"My name is \"+ name + \" and i like \" + fav)"
   ]
  },
  {
   "cell_type": "code",
   "execution_count": 43,
   "id": "8561824f-b7d7-4fbe-a14d-9aefab05cb8f",
   "metadata": {},
   "outputs": [
    {
     "name": "stdout",
     "output_type": "stream",
     "text": [
      "My name is {} and I am {} years old.\n"
     ]
    }
   ],
   "source": [
    "strPlaceholders=\"My name is {} and I am {} years old.\"\n",
    "print(strPlaceholders)"
   ]
  },
  {
   "cell_type": "code",
   "execution_count": 44,
   "id": "4ec62d6c-863e-42e8-96a2-78f4d03bda5c",
   "metadata": {},
   "outputs": [
    {
     "ename": "SyntaxError",
     "evalue": "incomplete input (2504987097.py, line 1)",
     "output_type": "error",
     "traceback": [
      "\u001b[0;36m  Cell \u001b[0;32mIn[44], line 1\u001b[0;36m\u001b[0m\n\u001b[0;31m    strPlaceholders.format(fav,nam\u001b[0m\n\u001b[0m                                  ^\u001b[0m\n\u001b[0;31mSyntaxError\u001b[0m\u001b[0;31m:\u001b[0m incomplete input\n"
     ]
    }
   ],
   "source": [
    "strPlaceholders.format(fav,nam"
   ]
  },
  {
   "cell_type": "code",
   "execution_count": 45,
   "id": "1a1a8f77-0b63-4198-a2e3-bf511d71d6b6",
   "metadata": {},
   "outputs": [
    {
     "name": "stdout",
     "output_type": "stream",
     "text": [
      "My name is raj and I am python, javascript years old.\n"
     ]
    }
   ],
   "source": [
    "fstr=f\"My name is { name } and I am { fav } years old.\"\n",
    "print(fstr)"
   ]
  },
  {
   "cell_type": "code",
   "execution_count": 46,
   "id": "959d3578-de8e-4426-a431-e68d0b5eaaed",
   "metadata": {},
   "outputs": [
    {
     "data": {
      "text/plain": [
       "1000"
      ]
     },
     "execution_count": 46,
     "metadata": {},
     "output_type": "execute_result"
    }
   ],
   "source": [
    "100*10"
   ]
  },
  {
   "cell_type": "code",
   "execution_count": 47,
   "id": "6a623311-e7e2-49b7-b965-79222b5d6cf2",
   "metadata": {},
   "outputs": [
    {
     "data": {
      "text/plain": [
       "107"
      ]
     },
     "execution_count": 47,
     "metadata": {},
     "output_type": "execute_result"
    }
   ],
   "source": [
    "1075//10"
   ]
  },
  {
   "cell_type": "code",
   "execution_count": 48,
   "id": "a07aa546-a0fb-4390-9dc7-a3dbe824d7f1",
   "metadata": {},
   "outputs": [
    {
     "data": {
      "text/plain": [
       "1000"
      ]
     },
     "execution_count": 48,
     "metadata": {},
     "output_type": "execute_result"
    }
   ],
   "source": [
    "10**3"
   ]
  },
  {
   "cell_type": "code",
   "execution_count": 49,
   "id": "4861e448-9860-4c60-bc47-30aa314e83d3",
   "metadata": {},
   "outputs": [
    {
     "data": {
      "text/plain": [
       "1000"
      ]
     },
     "execution_count": 49,
     "metadata": {},
     "output_type": "execute_result"
    }
   ],
   "source": [
    "pow(10,3)"
   ]
  },
  {
   "cell_type": "code",
   "execution_count": 50,
   "id": "840e8dc8-5d5d-4a02-92cf-2b588ee990d0",
   "metadata": {},
   "outputs": [],
   "source": [
    "a=(1,234,23,345,3466, 0,-1) #tuple"
   ]
  },
  {
   "cell_type": "code",
   "execution_count": 51,
   "id": "06aff459-a4dd-4bf7-9078-cc879160fa65",
   "metadata": {},
   "outputs": [
    {
     "data": {
      "text/plain": [
       "-1"
      ]
     },
     "execution_count": 51,
     "metadata": {},
     "output_type": "execute_result"
    }
   ],
   "source": [
    "min(a)"
   ]
  },
  {
   "cell_type": "code",
   "execution_count": 52,
   "id": "71764e66-50ac-4d28-8cfe-46cddeb99f4b",
   "metadata": {},
   "outputs": [
    {
     "data": {
      "text/plain": [
       "3466"
      ]
     },
     "execution_count": 52,
     "metadata": {},
     "output_type": "execute_result"
    }
   ],
   "source": [
    "max(a)"
   ]
  },
  {
   "cell_type": "code",
   "execution_count": 53,
   "id": "26e2f479-6a48-4d39-ac50-8029ad01f25d",
   "metadata": {},
   "outputs": [
    {
     "data": {
      "text/plain": [
       "4068"
      ]
     },
     "execution_count": 53,
     "metadata": {},
     "output_type": "execute_result"
    }
   ],
   "source": [
    "sum(a)"
   ]
  },
  {
   "cell_type": "code",
   "execution_count": 55,
   "id": "61c4f4ff-82cc-483f-8049-ce908accc75b",
   "metadata": {},
   "outputs": [
    {
     "name": "stdin",
     "output_type": "stream",
     "text": [
      "Enter your batchno B3\n"
     ]
    },
    {
     "name": "stdout",
     "output_type": "stream",
     "text": [
      "HI B3\n"
     ]
    }
   ],
   "source": [
    "val=input(\"Enter your batchno\")\n",
    "print(f\"HI {val}\")"
   ]
  },
  {
   "cell_type": "code",
   "execution_count": 56,
   "id": "65b62966-cea2-4bd0-b2ee-79657c43266b",
   "metadata": {},
   "outputs": [
    {
     "data": {
      "text/plain": [
       "'-0.6000000000000001'"
      ]
     },
     "execution_count": 56,
     "metadata": {},
     "output_type": "execute_result"
    }
   ],
   "source": [
    "a=1\n",
    "b=-1.6\n",
    "c=str(a+b)\n",
    "c"
   ]
  }
 ],
 "metadata": {
  "kernelspec": {
   "display_name": "Python 3 (ipykernel)",
   "language": "python",
   "name": "python3"
  },
  "language_info": {
   "codemirror_mode": {
    "name": "ipython",
    "version": 3
   },
   "file_extension": ".py",
   "mimetype": "text/x-python",
   "name": "python",
   "nbconvert_exporter": "python",
   "pygments_lexer": "ipython3",
   "version": "3.12.6"
  }
 },
 "nbformat": 4,
 "nbformat_minor": 5
}
