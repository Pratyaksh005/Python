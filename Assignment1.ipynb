{
 "cells": [
  {
   "cell_type": "code",
   "execution_count": 1,
   "id": "fc814254-8270-4e06-b244-7fe467f283b1",
   "metadata": {},
   "outputs": [
    {
     "name": "stdout",
     "output_type": "stream",
     "text": [
      "Name: Pratyaksh Bhandari\n",
      "Batch: B3\n",
      "SAPID: 590018654\n",
      "I'm using python version 3.12.5 (main, Aug  6 2024, 19:08:49) [Clang 15.0.0 (clang-1500.3.9.4)]\n"
     ]
    }
   ],
   "source": [
    "#1\n",
    "#get the python version\n",
    "import sys\n",
    "python_version = sys.version\n",
    "\n",
    "#command to print the name,batch,and sapid\n",
    "print(\"Name: Pratyaksh Bhandari\\nBatch: B3\\nSAPID: 590018654\")\n",
    "\n",
    "#command to print version of python\n",
    "print(f\"I'm using python version {python_version}\")\n"
   ]
  },
  {
   "cell_type": "code",
   "execution_count": null,
   "id": "a7a79f87-f4d1-4718-827f-77d3b1865d49",
   "metadata": {},
   "outputs": [],
   "source": [
    "#2\n",
    "# Write a Python program that takes a user's first and last name as input and \n",
    "# prints them in reverse order with a space between them."
   ]
  },
  {
   "cell_type": "code",
   "execution_count": 5,
   "id": "c512562b-4885-4a62-ab6d-0bcb33d0fba5",
   "metadata": {},
   "outputs": [
    {
     "name": "stdin",
     "output_type": "stream",
     "text": [
      "enter the first name  Pratyaksh\n",
      "enter the second name  Bhandari\n"
     ]
    },
    {
     "name": "stdout",
     "output_type": "stream",
     "text": [
      "iradnahB hskaytarP\n"
     ]
    }
   ],
   "source": [
    "#Storing input from user in str1 and str2\n",
    "str1=input(\"enter the first name \")\n",
    "str2=input(\"enter the second name \")\n",
    "\n",
    "#Using slicing to reverse the input string\n",
    "print((str2[::-1] + \" \"+ str1[::-1]))"
   ]
  },
  {
   "cell_type": "code",
   "execution_count": 12,
   "id": "6efe4b78-5eac-4d8a-80d3-3c59e9faad85",
   "metadata": {},
   "outputs": [],
   "source": [
    "#3\n",
    "# Write a Python program that takes an input number from the user,\n",
    "#  converts it to different numeric data types (integer, float, and complex),\n",
    "#  and displays the converted values."
   ]
  },
  {
   "cell_type": "code",
   "execution_count": 11,
   "id": "1cb8338f-bb74-4b20-aa9a-674af916d4ab",
   "metadata": {},
   "outputs": [
    {
     "name": "stdin",
     "output_type": "stream",
     "text": [
      "Enter a number:  15\n"
     ]
    },
    {
     "name": "stdout",
     "output_type": "stream",
     "text": [
      "Integer: 15\n",
      "Float: 15.0\n",
      "Complex: (15+0j)\n"
     ]
    }
   ],
   "source": [
    "user_input = input(\"Enter a number: \")\n",
    "\n",
    "#whole numbers without any decimal point. They can be positive or negative.\n",
    "print(\"Integer:\", int(user_input))\n",
    "\n",
    "#numbers with a decimal point. They can also be positive or negative.\n",
    "print(\"Float:\", float(user_input))\n",
    "\n",
    "#These numbers have a real part and an imaginary part, denoted with a j suffix for the imaginary.\n",
    "print(\"Complex:\", complex(user_input))"
   ]
  },
  {
   "cell_type": "code",
   "execution_count": null,
   "id": "694a840f-2641-4284-bc8e-dd34b9e65797",
   "metadata": {},
   "outputs": [],
   "source": []
  }
 ],
 "metadata": {
  "kernelspec": {
   "display_name": "Python 3 (ipykernel)",
   "language": "python",
   "name": "python3"
  },
  "language_info": {
   "codemirror_mode": {
    "name": "ipython",
    "version": 3
   },
   "file_extension": ".py",
   "mimetype": "text/x-python",
   "name": "python",
   "nbconvert_exporter": "python",
   "pygments_lexer": "ipython3",
   "version": "3.12.5"
  }
 },
 "nbformat": 4,
 "nbformat_minor": 5
}
