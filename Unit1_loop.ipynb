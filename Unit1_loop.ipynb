{
 "cells": [
  {
   "cell_type": "code",
   "execution_count": 4,
   "id": "8eb2a8cb-f5cf-4080-bc7a-433d09c33374",
   "metadata": {},
   "outputs": [
    {
     "name": "stdout",
     "output_type": "stream",
     "text": [
      "1\n",
      "loop iteration completed\n",
      "2\n",
      "loop iteration completed\n",
      "3\n",
      "loop iteration completed\n",
      "4\n",
      "loop iteration completed\n",
      "5\n",
      "6\n",
      "7\n",
      "8\n",
      "9\n",
      "10\n",
      "11\n",
      "12\n",
      "13\n",
      "14\n",
      "15\n",
      "16\n",
      "17\n",
      "18\n",
      "19\n",
      "completed\n"
     ]
    }
   ],
   "source": [
    "a = 1\n",
    "b = 20# large value\n",
    "# count = 0\n",
    "while True:\n",
    "    # count += 1\n",
    "    print(a)\n",
    "    \n",
    "\n",
    "    a += 1\n",
    "    \n",
    "    if a > 15:\n",
    "        break\n",
    "    \n",
    "    if a > 5:\n",
    "        continue\n",
    "\n",
    "    print(\"loop iteration completed\")\n",
    "\n",
    "\n",
    "    \n",
    "    # if count > 500:\n",
    "    #     break\n",
    "print(\"completed\")"
   ]
  },
  {
   "cell_type": "code",
   "execution_count": 8,
   "id": "f6e49354-960a-4c3c-92ef-09d85f9d13b7",
   "metadata": {},
   "outputs": [
    {
     "name": "stdout",
     "output_type": "stream",
     "text": [
      "True\n"
     ]
    }
   ],
   "source": [
    "string1 = \"Hello Python\"\n",
    "string2 = \"hello\"\n",
    "\n",
    "# include \n",
    "print( string2.upper() in string1.upper() ) # membership"
   ]
  },
  {
   "cell_type": "code",
   "execution_count": 15,
   "id": "4ca6d62e-4b69-4684-be95-74bb32b94f30",
   "metadata": {},
   "outputs": [
    {
     "data": {
      "text/plain": [
       "[1, 3, 2, 3, '45']"
      ]
     },
     "execution_count": 15,
     "metadata": {},
     "output_type": "execute_result"
    }
   ],
   "source": [
    "list1 = [1, 3, 2, 3, \"45\"]\n",
    "list1"
   ]
  },
  {
   "cell_type": "code",
   "execution_count": 16,
   "id": "848483fd-c2ac-418b-9df1-526c61240144",
   "metadata": {},
   "outputs": [
    {
     "name": "stdout",
     "output_type": "stream",
     "text": [
      "1\n",
      "3\n",
      "2\n",
      "3\n",
      "45\n"
     ]
    }
   ],
   "source": [
    "for i in list1: # iteration \n",
    "    print(i)"
   ]
  },
  {
   "cell_type": "code",
   "execution_count": 25,
   "id": "474ccb7f-9cd5-4d44-90e0-2884853d7336",
   "metadata": {},
   "outputs": [
    {
     "name": "stdout",
     "output_type": "stream",
     "text": [
      " at index \t 0 \n",
      " value is 1\n",
      " \n",
      " at index \t 1 \n",
      " value is 3\n",
      " \n",
      " at index \t 2 \n",
      " value is 2\n",
      " \n",
      " at index \t 3 \n",
      " value is 3\n",
      " \n",
      " at index \t 4 \n",
      " value is 45\n",
      " \n"
     ]
    }
   ],
   "source": [
    "for i in range(0, len(list1)): # iteration \n",
    "    print(f\" at index \\t { i } \\n value is { list1[i]}\\n \")"
   ]
  },
  {
   "cell_type": "code",
   "execution_count": 18,
   "id": "87e6e9d6-4444-4d8c-b1e5-053bb11f6bc6",
   "metadata": {},
   "outputs": [
    {
     "data": {
      "text/plain": [
       "5"
      ]
     },
     "execution_count": 18,
     "metadata": {},
     "output_type": "execute_result"
    }
   ],
   "source": [
    "len(list1)"
   ]
  },
  {
   "cell_type": "code",
   "execution_count": 28,
   "id": "4d4afe5a-1d8f-49c5-adfc-75dd2cd7f07d",
   "metadata": {},
   "outputs": [
    {
     "data": {
      "text/plain": [
       "([[10, 20], [30, 40]], 2)"
      ]
     },
     "execution_count": 28,
     "metadata": {},
     "output_type": "execute_result"
    }
   ],
   "source": [
    "# 10 20\n",
    "# 30 40\n",
    "\n",
    "row1 = [ 10, 20 ]\n",
    "row2 = [ 30, 40 ]\n",
    "\n",
    "matrix = [ row1, row2 ]\n",
    "matrix, len(matrix)  "
   ]
  },
  {
   "cell_type": "code",
   "execution_count": 30,
   "id": "88fe9e15-8eeb-4f3b-b809-8314a18b27ea",
   "metadata": {},
   "outputs": [
    {
     "data": {
      "text/plain": [
       "10"
      ]
     },
     "execution_count": 30,
     "metadata": {},
     "output_type": "execute_result"
    }
   ],
   "source": [
    "matrix[0][0]"
   ]
  },
  {
   "cell_type": "code",
   "execution_count": 38,
   "id": "6a5604a5-6d78-48e8-907c-fbe26c9c6f05",
   "metadata": {},
   "outputs": [],
   "source": [
    "# print value and id\n",
    "def showDetails(val):\n",
    "    print(f\"Value is {val} \\nid is {id(val)}\\n \")"
   ]
  },
  {
   "cell_type": "code",
   "execution_count": 39,
   "id": "4faeb3ef-8dc4-412f-b370-33c9426327e9",
   "metadata": {},
   "outputs": [
    {
     "name": "stdout",
     "output_type": "stream",
     "text": [
      "Value is [1, 3, 2, 3, '45'] \n",
      "id is 139745151048704\n",
      " \n"
     ]
    }
   ],
   "source": [
    "showDetails(list1)"
   ]
  },
  {
   "cell_type": "code",
   "execution_count": 41,
   "id": "c66a82f4-b1e1-4750-9fb8-0450f6f47b99",
   "metadata": {},
   "outputs": [
    {
     "name": "stdout",
     "output_type": "stream",
     "text": [
      "Value is [1000, 3, 2, 3, '45', 100] \n",
      "id is 139745151048704\n",
      " \n"
     ]
    }
   ],
   "source": [
    "list1[0] = 1000\n",
    "showDetails(list1)"
   ]
  },
  {
   "cell_type": "code",
   "execution_count": null,
   "id": "29d229de-1462-4575-bda9-60bc7b284a32",
   "metadata": {},
   "outputs": [],
   "source": [
    "list2 = list1"
   ]
  }
 ],
 "metadata": {
  "kernelspec": {
   "display_name": "Python 3 (ipykernel)",
   "language": "python",
   "name": "python3"
  },
  "language_info": {
   "codemirror_mode": {
    "name": "ipython",
    "version": 3
   },
   "file_extension": ".py",
   "mimetype": "text/x-python",
   "name": "python",
   "nbconvert_exporter": "python",
   "pygments_lexer": "ipython3",
   "version": "3.11.8"
  }
 },
 "nbformat": 4,
 "nbformat_minor": 5
}
