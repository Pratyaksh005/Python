{
 "cells": [
  {
   "cell_type": "code",
   "execution_count": 1,
   "id": "fc814254-8270-4e06-b244-7fe467f283b1",
   "metadata": {},
   "outputs": [
    {
     "name": "stdout",
     "output_type": "stream",
     "text": [
      "Name: Pratyaksh Bhandari\n",
      "Batch: B3\n",
      "SAPID: 590018654\n",
      "I'm using python version 3.12.5 (main, Aug  6 2024, 19:08:49) [Clang 15.0.0 (clang-1500.3.9.4)]\n"
     ]
    }
   ],
   "source": [
    "#1\n",
    "#get the python version\n",
    "import sys\n",
    "python_version = sys.version\n",
    "\n",
    "#command to print the name,batch,and sapid\n",
    "print(\"Name: Pratyaksh Bhandari\\nBatch: B3\\nSAPID: 590018654\")\n",
    "\n",
    "#command to print version of python\n",
    "print(f\"I'm using python version {python_version}\")\n"
   ]
  },
  {
   "cell_type": "code",
   "execution_count": 2,
   "id": "a7a79f87-f4d1-4718-827f-77d3b1865d49",
   "metadata": {},
   "outputs": [],
   "source": [
    "#2\n",
    "#Write a Python program that takes a user's first and last name as input and \n",
    "#prints them in reverse order with a space between them."
   ]
  },
  {
   "cell_type": "code",
   "execution_count": 3,
   "id": "c512562b-4885-4a62-ab6d-0bcb33d0fba5",
   "metadata": {},
   "outputs": [
    {
     "name": "stdin",
     "output_type": "stream",
     "text": [
      "enter the first name  Pratyaksh\n",
      "enter the second name  Bhandari\n"
     ]
    },
    {
     "name": "stdout",
     "output_type": "stream",
     "text": [
      "iradnahB hskaytarP\n"
     ]
    }
   ],
   "source": [
    "#Storing input from user in str1 and str2\n",
    "str1=input(\"enter the first name \")\n",
    "str2=input(\"enter the second name \")\n",
    "\n",
    "#Using slicing to reverse the input string\n",
    "print((str2[::-1] + \" \"+ str1[::-1]))"
   ]
  },
  {
   "cell_type": "code",
   "execution_count": 4,
   "id": "6efe4b78-5eac-4d8a-80d3-3c59e9faad85",
   "metadata": {},
   "outputs": [],
   "source": [
    "#3\n",
    "# Write a Python program that takes an input number from the user,\n",
    "#converts it to different numeric data types (integer, float, and complex),\n",
    "#and displays the converted values."
   ]
  },
  {
   "cell_type": "code",
   "execution_count": 5,
   "id": "1cb8338f-bb74-4b20-aa9a-674af916d4ab",
   "metadata": {},
   "outputs": [
    {
     "name": "stdin",
     "output_type": "stream",
     "text": [
      "Enter a number:  5\n"
     ]
    },
    {
     "name": "stdout",
     "output_type": "stream",
     "text": [
      "Integer: 5\n",
      "Float: 5.0\n",
      "Complex: (5+0j)\n"
     ]
    }
   ],
   "source": [
    "user_input = input(\"Enter a number: \")\n",
    "\n",
    "#whole numbers without any decimal point. They can be positive or negative.\n",
    "print(\"Integer:\", int(user_input))\n",
    "\n",
    "#numbers with a decimal point. They can also be positive or negative.\n",
    "print(\"Float:\", float(user_input))\n",
    "\n",
    "#These numbers have a real part and an imaginary part, denoted with a j suffix for the imaginary.\n",
    "print(\"Complex:\", complex(user_input))"
   ]
  },
  {
   "cell_type": "code",
   "execution_count": 6,
   "id": "694a840f-2641-4284-bc8e-dd34b9e65797",
   "metadata": {},
   "outputs": [
    {
     "name": "stdin",
     "output_type": "stream",
     "text": [
      "Enter the lenght of rectangle :  15\n",
      "Enter the width of rectangle :  38.2\n"
     ]
    },
    {
     "name": "stdout",
     "output_type": "stream",
     "text": [
      "The area is 573.00\n"
     ]
    }
   ],
   "source": [
    "#4\n",
    "#Create a Python script that calculates the area of a rectangle.\n",
    "length=float(input(\"Enter the lenght of rectangle : \"))\n",
    "width=float(input(\"Enter the width of rectangle : \"))\n",
    "area=length*width\n",
    "# Modify the rectangle area program to format the output so that it displays the area with two decimal places.\n",
    "print(f\"The area is {area:.2f}\")"
   ]
  },
  {
   "cell_type": "code",
   "execution_count": 7,
   "id": "6d89683b-772e-4d0b-a956-281a4cd5a34b",
   "metadata": {},
   "outputs": [
    {
     "name": "stdin",
     "output_type": "stream",
     "text": [
      "enter the first number : 5\n",
      "enter the second number : 7\n",
      "enter the third number : 15\n"
     ]
    },
    {
     "name": "stdout",
     "output_type": "stream",
     "text": [
      "The average of given number is 9.00\n"
     ]
    }
   ],
   "source": [
    "#5\n",
    "#Write a Python script that takes three numbers as input and\n",
    "#prints their average using the % method for string formatting\n",
    "num1=float(input(\"enter the first number :\"))\n",
    "\n",
    "num2=float(input(\"enter the second number :\"))\n",
    "\n",
    "num3=float(input(\"enter the third number :\"))\n",
    "\n",
    "avg=(num1+num2+num3)/3\n",
    "print(\"The average of given number is %.2f\" %avg)\n"
   ]
  },
  {
   "cell_type": "code",
   "execution_count": 10,
   "id": "dd5d6357-59ab-4e86-b50d-483bb30bada6",
   "metadata": {},
   "outputs": [
    {
     "name": "stdin",
     "output_type": "stream",
     "text": [
      "Enter a number (or type 'exit' to quit):  10\n"
     ]
    },
    {
     "name": "stdout",
     "output_type": "stream",
     "text": [
      "10.0 is a positive number.\n"
     ]
    },
    {
     "name": "stdin",
     "output_type": "stream",
     "text": [
      "Enter a number (or type 'exit' to quit):  -5\n"
     ]
    },
    {
     "name": "stdout",
     "output_type": "stream",
     "text": [
      "-5.0 is a negative number.\n"
     ]
    },
    {
     "name": "stdin",
     "output_type": "stream",
     "text": [
      "Enter a number (or type 'exit' to quit):  -.01\n"
     ]
    },
    {
     "name": "stdout",
     "output_type": "stream",
     "text": [
      "-0.01 is a negative number.\n"
     ]
    },
    {
     "name": "stdin",
     "output_type": "stream",
     "text": [
      "Enter a number (or type 'exit' to quit):  Exit\n"
     ]
    }
   ],
   "source": [
    "#Write a Python program that asks the user for a number and determines whether it is positive, negative, or zero.\n",
    "#Implement a loop that continues to ask the user for a number until they enter 'exit'.\n",
    "#Use break to exit the loop and continue to prompt for a new number if the input is not 'exit'.\n",
    "\n",
    "while True:\n",
    "    user_input = input(\"Enter a number (or type 'exit' to quit): \")\n",
    "\n",
    "    if user_input.lower() == 'exit':\n",
    "        break\n",
    "\n",
    "    try:\n",
    "        num = float(user_input)\n",
    "        if num > 0:\n",
    "            print(f\"{num} is a positive number.\")\n",
    "        elif num < 0:\n",
    "            print(f\"{num} is a negative number.\")\n",
    "        else:\n",
    "            print(f\"{num} is zero.\")\n",
    "    except ValueError:\n",
    "        print(\"Invalid input. Please enter a number or type 'exit' to quit.\")\n",
    "        continue"
   ]
  },
  {
   "cell_type": "code",
   "execution_count": 11,
   "id": "7e146aaf-21d4-4465-8319-634ee6b0ac7c",
   "metadata": {},
   "outputs": [
    {
     "name": "stdin",
     "output_type": "stream",
     "text": [
      "Enter the first value : 5\n",
      "Enter the  second value : -2\n"
     ]
    },
    {
     "name": "stdout",
     "output_type": "stream",
     "text": [
      "One number is even and the other is odd.\n"
     ]
    }
   ],
   "source": [
    "# Create a Python script that takes two numbers as input and \n",
    "# prints whether both numbers are even, odd, or one of each using relational and logical operators.\n",
    "\n",
    "val1 = int(input(\"Enter the first value :\"))\n",
    "                 \n",
    "val2 = int(input(\"Enter the  second value :\"))\n",
    "        \n",
    "if(val1%2==0 and val2%2==0):\n",
    "    print(\"both are even\")\n",
    "\n",
    "elif(val1%2!=0 and val2%2!=0):\n",
    "    print(\"both are odd\")\n",
    "elif(val1%2!=0 or val2%2!=0):\n",
    "    print(\"One number is even and the other is odd.\")"
   ]
  },
  {
   "cell_type": "code",
   "execution_count": 13,
   "id": "7551adff-c0df-40a7-aec5-43d444f53266",
   "metadata": {},
   "outputs": [
    {
     "name": "stdin",
     "output_type": "stream",
     "text": [
      "Enter an integer:  8\n"
     ]
    },
    {
     "name": "stdout",
     "output_type": "stream",
     "text": [
      "Binary: 1000\n",
      "Hexadecimal: 8\n",
      "Octal: 10\n"
     ]
    }
   ],
   "source": [
    "#  Write a Python program that takes an integer input and\n",
    "#  prints its binary, octal, and hexadecimal equivalents using a for loop and bitwise operators.\n",
    "\n",
    "num = int(input(\"Enter an integer: \"))\n",
    "\n",
    "formats = [('Binary', bin), ('Hexadecimal', hex), ('Octal', oct)]\n",
    "\n",
    "# Loop through each format and print the result\n",
    "\n",
    "for name, func in formats:\n",
    "    print(f\"{name}: {func(num)[2:].upper()}\")"
   ]
  },
  {
   "cell_type": "code",
   "execution_count": null,
   "id": "e7cec10b-6d56-4211-a0ed-2126f00b7b12",
   "metadata": {},
   "outputs": [],
   "source": []
  }
 ],
 "metadata": {
  "kernelspec": {
   "display_name": "Python 3 (ipykernel)",
   "language": "python",
   "name": "python3"
  },
  "language_info": {
   "codemirror_mode": {
    "name": "ipython",
    "version": 3
   },
   "file_extension": ".py",
   "mimetype": "text/x-python",
   "name": "python",
   "nbconvert_exporter": "python",
   "pygments_lexer": "ipython3",
   "version": "3.12.5"
  }
 },
 "nbformat": 4,
 "nbformat_minor": 5
}
